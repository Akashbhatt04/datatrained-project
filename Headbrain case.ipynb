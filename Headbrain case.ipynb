{
 "cells": [
  {
   "cell_type": "code",
   "execution_count": 1,
   "metadata": {
    "ExecuteTime": {
     "end_time": "2020-11-05T05:22:30.353181Z",
     "start_time": "2020-11-05T05:22:24.102185Z"
    }
   },
   "outputs": [
    {
     "data": {
      "text/html": [
       "<div>\n",
       "<style scoped>\n",
       "    .dataframe tbody tr th:only-of-type {\n",
       "        vertical-align: middle;\n",
       "    }\n",
       "\n",
       "    .dataframe tbody tr th {\n",
       "        vertical-align: top;\n",
       "    }\n",
       "\n",
       "    .dataframe thead th {\n",
       "        text-align: right;\n",
       "    }\n",
       "</style>\n",
       "<table border=\"1\" class=\"dataframe\">\n",
       "  <thead>\n",
       "    <tr style=\"text-align: right;\">\n",
       "      <th></th>\n",
       "      <th>Gender</th>\n",
       "      <th>Age Range</th>\n",
       "      <th>Head Size(cm^3)</th>\n",
       "      <th>Brain Weight(grams)</th>\n",
       "    </tr>\n",
       "  </thead>\n",
       "  <tbody>\n",
       "    <tr>\n",
       "      <th>0</th>\n",
       "      <td>1</td>\n",
       "      <td>1</td>\n",
       "      <td>4512</td>\n",
       "      <td>1530</td>\n",
       "    </tr>\n",
       "    <tr>\n",
       "      <th>1</th>\n",
       "      <td>1</td>\n",
       "      <td>1</td>\n",
       "      <td>3738</td>\n",
       "      <td>1297</td>\n",
       "    </tr>\n",
       "    <tr>\n",
       "      <th>2</th>\n",
       "      <td>1</td>\n",
       "      <td>1</td>\n",
       "      <td>4261</td>\n",
       "      <td>1335</td>\n",
       "    </tr>\n",
       "    <tr>\n",
       "      <th>3</th>\n",
       "      <td>1</td>\n",
       "      <td>1</td>\n",
       "      <td>3777</td>\n",
       "      <td>1282</td>\n",
       "    </tr>\n",
       "    <tr>\n",
       "      <th>4</th>\n",
       "      <td>1</td>\n",
       "      <td>1</td>\n",
       "      <td>4177</td>\n",
       "      <td>1590</td>\n",
       "    </tr>\n",
       "  </tbody>\n",
       "</table>\n",
       "</div>"
      ],
      "text/plain": [
       "   Gender  Age Range  Head Size(cm^3)  Brain Weight(grams)\n",
       "0       1          1             4512                 1530\n",
       "1       1          1             3738                 1297\n",
       "2       1          1             4261                 1335\n",
       "3       1          1             3777                 1282\n",
       "4       1          1             4177                 1590"
      ]
     },
     "execution_count": 1,
     "metadata": {},
     "output_type": "execute_result"
    }
   ],
   "source": [
    "import pandas as pd \n",
    "import numpy as np\n",
    "\n",
    "## selection of any algorithm always depends on the y variable, if y variable is continuous we use the linear regression\n",
    "## if the Y variable is not continuous you have to use categorical algorithms \n",
    "\n",
    "\n",
    "df = pd.read_csv(r\"C:\\Users\\HP\\Desktop\\dataset\\headbrain.csv\")\n",
    "df.head()"
   ]
  },
  {
   "cell_type": "code",
   "execution_count": 2,
   "metadata": {
    "ExecuteTime": {
     "end_time": "2020-11-05T05:22:33.608010Z",
     "start_time": "2020-11-05T05:22:33.585029Z"
    }
   },
   "outputs": [
    {
     "name": "stdout",
     "output_type": "stream",
     "text": [
      "<class 'pandas.core.frame.DataFrame'>\n",
      "RangeIndex: 237 entries, 0 to 236\n",
      "Data columns (total 4 columns):\n",
      " #   Column               Non-Null Count  Dtype\n",
      "---  ------               --------------  -----\n",
      " 0   Gender               237 non-null    int64\n",
      " 1   Age Range            237 non-null    int64\n",
      " 2   Head Size(cm^3)      237 non-null    int64\n",
      " 3   Brain Weight(grams)  237 non-null    int64\n",
      "dtypes: int64(4)\n",
      "memory usage: 7.5 KB\n",
      "None\n"
     ]
    }
   ],
   "source": [
    "### https://towardsdatascience.com/top-3-methods-for-handling-skewed-data-1334e0debf4\n",
    "\n",
    "## check the data \n",
    "\n",
    "print(df.info())"
   ]
  },
  {
   "cell_type": "code",
   "execution_count": 3,
   "metadata": {
    "ExecuteTime": {
     "end_time": "2020-11-05T05:22:36.478367Z",
     "start_time": "2020-11-05T05:22:36.380427Z"
    }
   },
   "outputs": [
    {
     "data": {
      "text/html": [
       "<div>\n",
       "<style scoped>\n",
       "    .dataframe tbody tr th:only-of-type {\n",
       "        vertical-align: middle;\n",
       "    }\n",
       "\n",
       "    .dataframe tbody tr th {\n",
       "        vertical-align: top;\n",
       "    }\n",
       "\n",
       "    .dataframe thead th {\n",
       "        text-align: right;\n",
       "    }\n",
       "</style>\n",
       "<table border=\"1\" class=\"dataframe\">\n",
       "  <thead>\n",
       "    <tr style=\"text-align: right;\">\n",
       "      <th></th>\n",
       "      <th>Gender</th>\n",
       "      <th>Age Range</th>\n",
       "      <th>Head Size(cm^3)</th>\n",
       "      <th>Brain Weight(grams)</th>\n",
       "    </tr>\n",
       "  </thead>\n",
       "  <tbody>\n",
       "    <tr>\n",
       "      <th>count</th>\n",
       "      <td>237.000000</td>\n",
       "      <td>237.000000</td>\n",
       "      <td>237.000000</td>\n",
       "      <td>237.000000</td>\n",
       "    </tr>\n",
       "    <tr>\n",
       "      <th>mean</th>\n",
       "      <td>1.434599</td>\n",
       "      <td>1.535865</td>\n",
       "      <td>3633.991561</td>\n",
       "      <td>1282.873418</td>\n",
       "    </tr>\n",
       "    <tr>\n",
       "      <th>std</th>\n",
       "      <td>0.496753</td>\n",
       "      <td>0.499768</td>\n",
       "      <td>365.261422</td>\n",
       "      <td>120.340446</td>\n",
       "    </tr>\n",
       "    <tr>\n",
       "      <th>min</th>\n",
       "      <td>1.000000</td>\n",
       "      <td>1.000000</td>\n",
       "      <td>2720.000000</td>\n",
       "      <td>955.000000</td>\n",
       "    </tr>\n",
       "    <tr>\n",
       "      <th>25%</th>\n",
       "      <td>1.000000</td>\n",
       "      <td>1.000000</td>\n",
       "      <td>3389.000000</td>\n",
       "      <td>1207.000000</td>\n",
       "    </tr>\n",
       "    <tr>\n",
       "      <th>50%</th>\n",
       "      <td>1.000000</td>\n",
       "      <td>2.000000</td>\n",
       "      <td>3614.000000</td>\n",
       "      <td>1280.000000</td>\n",
       "    </tr>\n",
       "    <tr>\n",
       "      <th>75%</th>\n",
       "      <td>2.000000</td>\n",
       "      <td>2.000000</td>\n",
       "      <td>3876.000000</td>\n",
       "      <td>1350.000000</td>\n",
       "    </tr>\n",
       "    <tr>\n",
       "      <th>max</th>\n",
       "      <td>2.000000</td>\n",
       "      <td>2.000000</td>\n",
       "      <td>4747.000000</td>\n",
       "      <td>1635.000000</td>\n",
       "    </tr>\n",
       "  </tbody>\n",
       "</table>\n",
       "</div>"
      ],
      "text/plain": [
       "           Gender   Age Range  Head Size(cm^3)  Brain Weight(grams)\n",
       "count  237.000000  237.000000       237.000000           237.000000\n",
       "mean     1.434599    1.535865      3633.991561          1282.873418\n",
       "std      0.496753    0.499768       365.261422           120.340446\n",
       "min      1.000000    1.000000      2720.000000           955.000000\n",
       "25%      1.000000    1.000000      3389.000000          1207.000000\n",
       "50%      1.000000    2.000000      3614.000000          1280.000000\n",
       "75%      2.000000    2.000000      3876.000000          1350.000000\n",
       "max      2.000000    2.000000      4747.000000          1635.000000"
      ]
     },
     "execution_count": 3,
     "metadata": {},
     "output_type": "execute_result"
    }
   ],
   "source": [
    "## used to view some basic statistical details like percentile, mean, std etc. of a data frame or a series of numeric values.\n",
    "df.describe()"
   ]
  },
  {
   "cell_type": "code",
   "execution_count": 4,
   "metadata": {
    "ExecuteTime": {
     "end_time": "2020-11-05T05:22:39.703410Z",
     "start_time": "2020-11-05T05:22:39.682421Z"
    }
   },
   "outputs": [
    {
     "name": "stdout",
     "output_type": "stream",
     "text": [
      " NaN value in the data set column wise :- \n",
      "  Gender                 0\n",
      "Age Range              0\n",
      "Head Size(cm^3)        0\n",
      "Brain Weight(grams)    0\n",
      "dtype: int64\n",
      " Total NaN value in the data set  :- \n",
      "  0\n"
     ]
    }
   ],
   "source": [
    "## Find the null value in the data set \n",
    "\n",
    "print(\" NaN value in the data set column wise :- \\n \" , df.isnull().sum())\n",
    "print(\" Total NaN value in the data set  :- \\n \" , df.isnull().sum().sum())\n"
   ]
  },
  {
   "cell_type": "code",
   "execution_count": 6,
   "metadata": {
    "ExecuteTime": {
     "end_time": "2020-11-05T05:24:42.932462Z",
     "start_time": "2020-11-05T05:24:34.730517Z"
    }
   },
   "outputs": [
    {
     "data": {
      "image/png": "[encoded data removed]",
      "text/plain": [
       "<Figure size 432x288 with 2 Axes>"
      ]
     },
     "metadata": {
      "needs_background": "light"
     },
     "output_type": "display_data"
    }
   ],
   "source": [
    "## check visualization of the null value using the seaborn library\n",
    "\n",
    "import seaborn as sns\n",
    "import matplotlib.pyplot as plt\n",
    "\n",
    "sns.heatmap(df.isnull(),annot=True)\n",
    "plt.show()\n"
   ]
  },
  {
   "cell_type": "code",
   "execution_count": 8,
   "metadata": {
    "ExecuteTime": {
     "end_time": "2020-11-05T05:26:16.166615Z",
     "start_time": "2020-11-05T05:26:03.411175Z"
    }
   },
   "outputs": [
    {
     "data": {
      "image/png": "[encoded data removed]",
      "text/plain": [
       "<Figure size 720x720 with 20 Axes>"
      ]
     },
     "metadata": {
      "needs_background": "light"
     },
     "output_type": "display_data"
    }
   ],
   "source": [
    "sns.pairplot(data=df)\n",
    "plt.show()"
   ]
  },
  {
   "cell_type": "code",
   "execution_count": 9,
   "metadata": {
    "ExecuteTime": {
     "end_time": "2020-11-05T05:29:54.886942Z",
     "start_time": "2020-11-05T05:29:54.867953Z"
    }
   },
   "outputs": [
    {
     "name": "stdout",
     "output_type": "stream",
     "text": [
      "(237, 4)\n",
      "(236, 4)\n"
     ]
    }
   ],
   "source": [
    "## let's check whether there are outliers present or not \n",
    "\n",
    "from scipy.stats import zscore\n",
    "z = abs(zscore(df))\n",
    "print(df.shape)\n",
    "df_final = df.loc[(z<3).all(axis = 1)]\n",
    "print(df_final.shape)\n"
   ]
  },
  {
   "cell_type": "code",
   "execution_count": 10,
   "metadata": {
    "ExecuteTime": {
     "end_time": "2020-11-05T05:29:59.349895Z",
     "start_time": "2020-11-05T05:29:56.879751Z"
    }
   },
   "outputs": [
    {
     "data": {
      "image/png": "[encoded data removed]",
      "text/plain": [
       "<Figure size 432x288 with 1 Axes>"
      ]
     },
     "metadata": {
      "needs_background": "light"
     },
     "output_type": "display_data"
    }
   ],
   "source": [
    "## lest check that relation between Brain Weight(grams) and Head Size(cm^3)\n",
    "\n",
    "sns.lineplot(x=df[\"Head Size(cm^3)\"] , y=df[\"Brain Weight(grams)\"], data= df)\n",
    "plt.show()"
   ]
  },
  {
   "cell_type": "code",
   "execution_count": 11,
   "metadata": {
    "ExecuteTime": {
     "end_time": "2020-11-05T05:30:01.793017Z",
     "start_time": "2020-11-05T05:30:01.135419Z"
    }
   },
   "outputs": [
    {
     "data": {
      "image/png": "[encoded data removed]",
      "text/plain": [
       "<Figure size 432x288 with 1 Axes>"
      ]
     },
     "metadata": {
      "needs_background": "light"
     },
     "output_type": "display_data"
    }
   ],
   "source": [
    "## lets check the what is the average size according to gender\n",
    "\n",
    "sns.barplot(y=df[\"Brain Weight(grams)\"], x=df[\"Gender\"], data=df)\n",
    "plt.show()"
   ]
  },
  {
   "cell_type": "code",
   "execution_count": 9,
   "metadata": {
    "ExecuteTime": {
     "end_time": "2020-11-04T05:01:01.689591Z",
     "start_time": "2020-11-04T05:01:01.038988Z"
    }
   },
   "outputs": [
    {
     "data": {
      "image/png": "[encoded data removed]",
      "text/plain": [
       "<Figure size 432x288 with 1 Axes>"
      ]
     },
     "metadata": {
      "needs_background": "light"
     },
     "output_type": "display_data"
    }
   ],
   "source": [
    "## lets check the what is the average size according to age\n",
    "sns.barplot(y=df[\"Brain Weight(grams)\"], x=df[\"Age Range\"], data=df)\n",
    "plt.show()"
   ]
  },
  {
   "cell_type": "code",
   "execution_count": 12,
   "metadata": {
    "ExecuteTime": {
     "end_time": "2020-11-05T05:30:08.160522Z",
     "start_time": "2020-11-05T05:30:07.653694Z"
    }
   },
   "outputs": [
    {
     "data": {
      "image/png": "[encoded data removed]",
      "text/plain": [
       "<Figure size 432x288 with 1 Axes>"
      ]
     },
     "metadata": {
      "needs_background": "light"
     },
     "output_type": "display_data"
    }
   ],
   "source": [
    "## #Lets draw histogram for brain weight\n",
    "plt.hist(x= \"Brain Weight(grams)\" , data = df )\n",
    "plt.show()\n",
    "\n",
    "#we can say it shows almost normal distribution based on below output"
   ]
  },
  {
   "cell_type": "code",
   "execution_count": 13,
   "metadata": {
    "ExecuteTime": {
     "end_time": "2020-11-05T05:30:10.053496Z",
     "start_time": "2020-11-05T05:30:10.036504Z"
    }
   },
   "outputs": [
    {
     "data": {
      "text/plain": [
       "Gender                 0.265554\n",
       "Age Range             -0.144748\n",
       "Head Size(cm^3)        0.238807\n",
       "Brain Weight(grams)    0.265478\n",
       "dtype: float64"
      ]
     },
     "execution_count": 13,
     "metadata": {},
     "output_type": "execute_result"
    }
   ],
   "source": [
    "#lets hcek skewnesss of the dataset\n",
    "df.skew()\n",
    "#Below shows acceptable level of skewness (-.55 to +.55 )"
   ]
  },
  {
   "cell_type": "code",
   "execution_count": 14,
   "metadata": {
    "ExecuteTime": {
     "end_time": "2020-11-05T05:30:12.042463Z",
     "start_time": "2020-11-05T05:30:12.013479Z"
    }
   },
   "outputs": [
    {
     "name": "stdout",
     "output_type": "stream",
     "text": [
      "   Head Size(cm^3)\n",
      "0             4512\n",
      "1             3738\n",
      "2             4261\n",
      "3             3777\n",
      "4             4177\n",
      "   Brain Weight(grams)\n",
      "0                 1530\n",
      "1                 1297\n",
      "2                 1335\n",
      "3                 1282\n",
      "4                 1590\n"
     ]
    }
   ],
   "source": [
    "#Now let seprate input and output variable to be used for the linear regression problem\n",
    "x=df[[\"Head Size(cm^3)\"]]\n",
    "y=df[[\"Brain Weight(grams)\"]]\n",
    "\n",
    "print(x.head())\n",
    "print(y.head())\n",
    "\n"
   ]
  },
  {
   "cell_type": "code",
   "execution_count": 15,
   "metadata": {
    "ExecuteTime": {
     "end_time": "2020-11-05T05:30:14.840449Z",
     "start_time": "2020-11-05T05:30:13.835837Z"
    }
   },
   "outputs": [
    {
     "name": "stdout",
     "output_type": "stream",
     "text": [
      "[[ 2.40886829]\n",
      " [ 0.28535333]\n",
      " [ 1.72023489]\n",
      " [ 0.39235214]\n",
      " [ 1.4897759 ]\n",
      " [-0.13441126]\n",
      " [ 0.41430062]\n",
      " [-0.2057438 ]\n",
      " [-0.05759159]\n",
      " [ 0.95478182]\n",
      " [-0.52399669]\n",
      " [ 0.98496097]\n",
      " [ 0.01648451]\n",
      " [ 1.57482624]\n",
      " [ 0.54324791]\n",
      " [ 0.66396452]\n",
      " [-0.37584448]\n",
      " [-0.46089482]\n",
      " [-1.47875536]\n",
      " [ 2.16743507]\n",
      " [ 0.66945164]\n",
      " [ 1.13036962]\n",
      " [ 0.46642825]\n",
      " [ 0.20853367]\n",
      " [ 3.05360475]\n",
      " [ 2.16469151]\n",
      " [ 1.10293403]\n",
      " [ 1.06452419]\n",
      " [-0.49381754]\n",
      " [ 1.48428878]\n",
      " [ 0.41978774]\n",
      " [ 0.44447977]\n",
      " [ 1.28675251]\n",
      " [ 1.44587895]\n",
      " [ 1.43764827]\n",
      " [ 0.49386384]\n",
      " [-0.2935377 ]\n",
      " [ 0.31278892]\n",
      " [-0.82304466]\n",
      " [-0.38956228]\n",
      " [ 0.89991063]\n",
      " [-0.35389601]\n",
      " [ 1.8683871 ]\n",
      " [ 0.46642825]\n",
      " [ 0.62829825]\n",
      " [ 1.09744691]\n",
      " [ 1.84918218]\n",
      " [-1.2867062 ]\n",
      " [ 0.01922807]\n",
      " [ 0.02745875]\n",
      " [ 0.70511792]\n",
      " [ 0.4362491 ]\n",
      " [ 1.74492692]\n",
      " [ 1.17701013]\n",
      " [ 1.0370886 ]\n",
      " [-0.4828433 ]\n",
      " [ 0.70237436]\n",
      " [ 1.45959675]\n",
      " [ 0.82583453]\n",
      " [ 0.09604773]\n",
      " [ 0.63652893]\n",
      " [-0.66117466]\n",
      " [ 2.21681914]\n",
      " [ 1.69828641]\n",
      " [ 0.25517418]\n",
      " [-0.83676246]\n",
      " [-0.60081635]\n",
      " [-0.71878941]\n",
      " [ 2.18389643]\n",
      " [ 2.04946202]\n",
      " [ 1.02611436]\n",
      " [ 0.61458046]\n",
      " [ 1.33613657]\n",
      " [ 1.16054877]\n",
      " [ 0.52129944]\n",
      " [-0.6584311 ]\n",
      " [-0.20848736]\n",
      " [-0.746225  ]\n",
      " [ 0.81211673]\n",
      " [ 0.55147859]\n",
      " [ 0.53776079]\n",
      " [ 0.60909334]\n",
      " [-1.05624721]\n",
      " [-0.15635973]\n",
      " [ 0.82034741]\n",
      " [ 0.59263198]\n",
      " [-0.89163365]\n",
      " [-0.62550839]\n",
      " [-0.35115245]\n",
      " [ 0.74901487]\n",
      " [ 1.44313539]\n",
      " [-0.86694161]\n",
      " [ 0.07684282]\n",
      " [ 0.72706639]\n",
      " [ 0.18109807]\n",
      " [ 0.39783926]\n",
      " [-0.44168991]\n",
      " [-0.3950494 ]\n",
      " [ 0.05489434]\n",
      " [-0.42797211]\n",
      " [-0.3813316 ]\n",
      " [ 0.54873503]\n",
      " [ 0.66396452]\n",
      " [ 0.07409926]\n",
      " [-0.0438738 ]\n",
      " [ 0.03843298]\n",
      " [ 1.09195979]\n",
      " [-0.6447133 ]\n",
      " [ 0.7737069 ]\n",
      " [ 2.18389643]\n",
      " [ 0.16738028]\n",
      " [-0.30176838]\n",
      " [-0.17282109]\n",
      " [-0.10971922]\n",
      " [-0.68861025]\n",
      " [-0.37035736]\n",
      " [-0.12343702]\n",
      " [ 0.72980995]\n",
      " [ 1.31693166]\n",
      " [ 0.83132165]\n",
      " [-0.6447133 ]\n",
      " [ 1.55287777]\n",
      " [ 2.34302287]\n",
      " [-0.05484804]\n",
      " [ 1.14408742]\n",
      " [ 0.40606994]\n",
      " [-0.66666178]\n",
      " [-1.39919214]\n",
      " [ 1.14957454]\n",
      " [-0.14264194]\n",
      " [ 0.08781705]\n",
      " [-0.27981991]\n",
      " [ 1.13036962]\n",
      " [ 0.09056061]\n",
      " [-2.13172249]\n",
      " [-0.54320161]\n",
      " [ 0.43076198]\n",
      " [-0.91083856]\n",
      " [-1.45406332]\n",
      " [-1.27024484]\n",
      " [-0.17007753]\n",
      " [-0.28530702]\n",
      " [-1.25927061]\n",
      " [-0.53771449]\n",
      " [ 0.73804063]\n",
      " [ 0.72706639]\n",
      " [-0.63922618]\n",
      " [-1.00686314]\n",
      " [-0.50204822]\n",
      " [-1.49247315]\n",
      " [-0.60630347]\n",
      " [-0.85322382]\n",
      " [ 0.12622688]\n",
      " [-0.53497093]\n",
      " [ 0.60086266]\n",
      " [-1.31139823]\n",
      " [-0.97394043]\n",
      " [ 0.20030299]\n",
      " [ 1.02062724]\n",
      " [-1.00137602]\n",
      " [-1.54460078]\n",
      " [ 0.39783926]\n",
      " [-0.23592295]\n",
      " [-0.93827416]\n",
      " [-0.37584448]\n",
      " [-1.51442163]\n",
      " [-1.05899077]\n",
      " [-0.75719924]\n",
      " [ 0.46368469]\n",
      " [-0.18653889]\n",
      " [-1.34157739]\n",
      " [-0.35938313]\n",
      " [-0.17282109]\n",
      " [ 0.2469435 ]\n",
      " [-0.05210448]\n",
      " [-1.18245094]\n",
      " [-0.06856583]\n",
      " [-0.20025668]\n",
      " [ 0.94655114]\n",
      " [-0.27707635]\n",
      " [ 0.15091892]\n",
      " [-1.30591112]\n",
      " [ 1.01788369]\n",
      " [-1.24280925]\n",
      " [-0.42522855]\n",
      " [ 0.02197163]\n",
      " [-0.00546397]\n",
      " [-1.5500879 ]\n",
      " [-0.6584311 ]\n",
      " [ 0.18932875]\n",
      " [-1.2867062 ]\n",
      " [-0.76817348]\n",
      " [-1.7393935 ]\n",
      " [ 0.1454318 ]\n",
      " [-0.21397448]\n",
      " [-2.36218148]\n",
      " [-1.58026705]\n",
      " [-0.79560907]\n",
      " [-0.38681872]\n",
      " [-0.92455636]\n",
      " [-0.75171212]\n",
      " [-1.11386196]\n",
      " [-0.97942755]\n",
      " [ 0.59537554]\n",
      " [-1.55557502]\n",
      " [ 0.1591496 ]\n",
      " [-0.63648263]\n",
      " [ 0.99044809]\n",
      " [-0.86694161]\n",
      " [-2.50759013]\n",
      " [-1.91223774]\n",
      " [-0.14812905]\n",
      " [-1.90675062]\n",
      " [-1.76957265]\n",
      " [-0.1316677 ]\n",
      " [-1.31139823]\n",
      " [-1.06447789]\n",
      " [-1.2729884 ]\n",
      " [-1.00411958]\n",
      " [-0.6721489 ]\n",
      " [-0.69409737]\n",
      " [-2.11251758]\n",
      " [ 0.29084045]\n",
      " [-0.42522855]\n",
      " [ 0.03568942]\n",
      " [ 0.22499502]\n",
      " [-0.96022263]\n",
      " [ 1.563852  ]\n",
      " [ 0.27712265]\n",
      " [-1.14129755]\n",
      " [ 0.13994468]\n",
      " [ 0.19207231]\n",
      " [-1.15227179]\n",
      " [-0.6584311 ]\n",
      " [-1.10014416]\n",
      " [-0.77366059]\n",
      " [-0.66666178]]\n"
     ]
    }
   ],
   "source": [
    "## #scaling down using standardscaler\n",
    "from sklearn.preprocessing import StandardScaler\n",
    "sc = StandardScaler() ###Perform standardization by centering and scaling\n",
    "x = sc.fit_transform(x)\n",
    "print(x)"
   ]
  },
  {
   "cell_type": "code",
   "execution_count": 16,
   "metadata": {
    "ExecuteTime": {
     "end_time": "2020-11-05T05:30:20.757837Z",
     "start_time": "2020-11-05T05:30:16.049701Z"
    }
   },
   "outputs": [
    {
     "name": "stdout",
     "output_type": "stream",
     "text": [
      "r2_score corresponding to random state:  0  is:  0.6376364238008984\n",
      "r2_score corresponding to random state:  1  is:  0.5571552826824455\n",
      "r2_score corresponding to random state:  2  is:  0.6793647592908127\n",
      "r2_score corresponding to random state:  3  is:  0.7600797473316105\n",
      "r2_score corresponding to random state:  4  is:  0.6537136105372976\n",
      "r2_score corresponding to random state:  5  is:  0.7548417934153979\n",
      "r2_score corresponding to random state:  6  is:  0.6203314269202966\n",
      "r2_score corresponding to random state:  7  is:  0.6700896298559369\n",
      "r2_score corresponding to random state:  8  is:  0.6351181790533427\n",
      "r2_score corresponding to random state:  9  is:  0.665534730434928\n",
      "r2_score corresponding to random state:  10  is:  0.832745812102125\n",
      "r2_score corresponding to random state:  11  is:  0.4568031562935818\n",
      "r2_score corresponding to random state:  12  is:  0.6424800194863828\n",
      "r2_score corresponding to random state:  13  is:  0.6327692971965183\n",
      "r2_score corresponding to random state:  14  is:  0.5810917193319585\n",
      "r2_score corresponding to random state:  15  is:  0.6100697245025559\n",
      "r2_score corresponding to random state:  16  is:  0.7957002367774237\n",
      "r2_score corresponding to random state:  17  is:  0.642492347625095\n",
      "r2_score corresponding to random state:  18  is:  0.658996492562984\n",
      "r2_score corresponding to random state:  19  is:  0.572994084830188\n",
      "r2_score corresponding to random state:  20  is:  0.614916227102305\n",
      "r2_score corresponding to random state:  21  is:  0.41201863127487126\n",
      "r2_score corresponding to random state:  22  is:  0.5137066355511075\n",
      "r2_score corresponding to random state:  23  is:  0.5348013942307959\n",
      "r2_score corresponding to random state:  24  is:  0.7394815557316852\n",
      "r2_score corresponding to random state:  25  is:  0.7759589177768256\n",
      "r2_score corresponding to random state:  26  is:  0.7415732575349601\n",
      "r2_score corresponding to random state:  27  is:  0.585589124768775\n",
      "r2_score corresponding to random state:  28  is:  0.626338283839841\n",
      "r2_score corresponding to random state:  29  is:  0.5965109967867821\n",
      "r2_score corresponding to random state:  30  is:  0.7179874529859196\n",
      "r2_score corresponding to random state:  31  is:  0.53998289163596\n",
      "r2_score corresponding to random state:  32  is:  0.6477271724122664\n",
      "r2_score corresponding to random state:  33  is:  0.722239941287923\n",
      "r2_score corresponding to random state:  34  is:  0.6873935214789475\n",
      "r2_score corresponding to random state:  35  is:  0.5097121298800188\n",
      "r2_score corresponding to random state:  36  is:  0.6506299144609536\n",
      "r2_score corresponding to random state:  37  is:  0.6241285167480145\n",
      "r2_score corresponding to random state:  38  is:  0.4994531057771596\n",
      "r2_score corresponding to random state:  39  is:  0.6680054125246782\n",
      "r2_score corresponding to random state:  40  is:  0.6660179196891471\n",
      "r2_score corresponding to random state:  41  is:  0.6869770791567571\n",
      "r2_score corresponding to random state:  42  is:  0.7149168473012073\n",
      "r2_score corresponding to random state:  43  is:  0.6404165530671617\n",
      "r2_score corresponding to random state:  44  is:  0.6530109688762358\n",
      "r2_score corresponding to random state:  45  is:  0.6939862623941999\n",
      "r2_score corresponding to random state:  46  is:  0.5332650244375814\n",
      "r2_score corresponding to random state:  47  is:  0.6201411206780885\n",
      "r2_score corresponding to random state:  48  is:  0.6851449361873334\n",
      "r2_score corresponding to random state:  49  is:  0.6433491336855988\n",
      "r2_score corresponding to random state:  50  is:  0.7683161771318533\n",
      "r2_score corresponding to random state:  51  is:  0.5935686929145347\n",
      "r2_score corresponding to random state:  52  is:  0.6342022687682458\n",
      "r2_score corresponding to random state:  53  is:  0.5909146568147446\n",
      "r2_score corresponding to random state:  54  is:  0.613033190538937\n",
      "r2_score corresponding to random state:  55  is:  0.5884150240645216\n",
      "r2_score corresponding to random state:  56  is:  0.7399588791116045\n",
      "r2_score corresponding to random state:  57  is:  0.5071803243347979\n",
      "r2_score corresponding to random state:  58  is:  0.6123621922042877\n",
      "r2_score corresponding to random state:  59  is:  0.7318498972427991\n",
      "r2_score corresponding to random state:  60  is:  0.670702983531536\n",
      "r2_score corresponding to random state:  61  is:  0.6107719657611237\n",
      "r2_score corresponding to random state:  62  is:  0.5886035640681522\n",
      "r2_score corresponding to random state:  63  is:  0.6677040991373102\n",
      "r2_score corresponding to random state:  64  is:  0.6296914854979072\n",
      "r2_score corresponding to random state:  65  is:  0.71647493474892\n",
      "r2_score corresponding to random state:  66  is:  0.6203738753194061\n",
      "r2_score corresponding to random state:  67  is:  0.712612390279983\n",
      "r2_score corresponding to random state:  68  is:  0.6576566589195091\n",
      "r2_score corresponding to random state:  69  is:  0.6703630883745615\n",
      "r2_score corresponding to random state:  70  is:  0.5891175986445865\n",
      "r2_score corresponding to random state:  71  is:  0.6417613976759238\n",
      "r2_score corresponding to random state:  72  is:  0.5463136037595998\n",
      "r2_score corresponding to random state:  73  is:  0.5045543063528726\n",
      "r2_score corresponding to random state:  74  is:  0.6908546939589804\n",
      "r2_score corresponding to random state:  75  is:  0.5839986897763758\n",
      "r2_score corresponding to random state:  76  is:  0.5842914878403355\n",
      "r2_score corresponding to random state:  77  is:  0.66166348734816\n",
      "r2_score corresponding to random state:  78  is:  0.6473967116879223\n",
      "r2_score corresponding to random state:  79  is:  0.7378058902454341\n",
      "r2_score corresponding to random state:  80  is:  0.31163981871623503\n",
      "r2_score corresponding to random state:  81  is:  0.6287492712541898\n",
      "r2_score corresponding to random state:  82  is:  0.5498061635931801\n",
      "r2_score corresponding to random state:  83  is:  0.742689268036727\n",
      "r2_score corresponding to random state:  84  is:  0.6841481547920669\n",
      "r2_score corresponding to random state:  85  is:  0.6839611629631983\n",
      "r2_score corresponding to random state:  86  is:  0.5705188355104969\n",
      "r2_score corresponding to random state:  87  is:  0.5235044952071041\n",
      "r2_score corresponding to random state:  88  is:  0.521218236230014\n",
      "r2_score corresponding to random state:  89  is:  0.6647722042837871\n",
      "r2_score corresponding to random state:  90  is:  0.692591428371049\n",
      "r2_score corresponding to random state:  91  is:  0.7602597914098644\n",
      "r2_score corresponding to random state:  92  is:  0.7279273279367925\n",
      "r2_score corresponding to random state:  93  is:  0.6673454912138065\n",
      "r2_score corresponding to random state:  94  is:  0.6801980030607431\n",
      "r2_score corresponding to random state:  95  is:  0.44961695878564867\n",
      "r2_score corresponding to random state:  96  is:  0.6854497779131984\n",
      "r2_score corresponding to random state:  97  is:  0.5090577072170102\n",
      "r2_score corresponding to random state:  98  is:  0.4944064453867716\n",
      "r2_score corresponding to random state:  99  is:  0.5312933151260452\n",
      "r2_score corresponding to random state:  100  is:  0.6887976995086573\n",
      "\n",
      "\n",
      "max r2 score corresponding to  10  is  0.832745812102125\n"
     ]
    }
   ],
   "source": [
    "from sklearn.model_selection import train_test_split\n",
    "from sklearn.metrics import mean_absolute_error\n",
    "from sklearn.metrics import mean_squared_error\n",
    "from sklearn.metrics import r2_score\n",
    "from sklearn import linear_model\n",
    "max_r_score = 0\n",
    "for r_state in range (0 , 101):\n",
    "    x_train,x_test,y_train,y_test = train_test_split(x , y , random_state = r_state , test_size = 0.20 ) ## split the data set \n",
    "    regr = linear_model.LinearRegression() #  use the regression model \n",
    "    regr.fit(x_train,y_train) # train and test data set fit in the model \n",
    "    y_pred = regr.predict(x_test)\n",
    "    r2_scr = r2_score(y_test,y_pred)\n",
    "    print(\"r2_score corresponding to random state: \",r_state,\" is: \",r2_scr)\n",
    "    if r2_scr>max_r_score:\n",
    "        max_r_score=r2_scr\n",
    "        final_r_state=r_state\n",
    "print()\n",
    "print()\n",
    "print(\"max r2 score corresponding to \",final_r_state,\" is \",max_r_score)\n",
    "#The belwo output shows that we are getting acceptable level of r2 score in most of the cases and max value is also shown"
   ]
  },
  {
   "cell_type": "code",
   "execution_count": 17,
   "metadata": {
    "ExecuteTime": {
     "end_time": "2020-11-05T05:30:24.122980Z",
     "start_time": "2020-11-05T05:30:23.942096Z"
    }
   },
   "outputs": [
    {
     "data": {
      "text/plain": [
       "0.4936984443261272"
      ]
     },
     "execution_count": 17,
     "metadata": {},
     "output_type": "execute_result"
    }
   ],
   "source": [
    "#Lets do the cross validation\n",
    "from sklearn.model_selection import cross_val_score\n",
    "cross_val_score(linear_model.LinearRegression(), x, y, cv=5,scoring=\"r2\").mean()\n",
    "#the Below cross validation score is less and it shows that we further need to improve our model using more data"
   ]
  },
  {
   "cell_type": "code",
   "execution_count": 18,
   "metadata": {
    "ExecuteTime": {
     "end_time": "2020-11-05T05:30:30.512611Z",
     "start_time": "2020-11-05T05:30:30.488628Z"
    }
   },
   "outputs": [],
   "source": [
    "\n",
    "#since maximum is comming around random state 10  will use that to create our final model\n",
    "x_train, x_test, y_train, y_test = train_test_split(x, y,random_state =10,test_size=0.20)\n",
    "lr=linear_model.LinearRegression()\n",
    "lr.fit(x_train,y_train)\n",
    "y_pred=lr.predict(x_test)"
   ]
  },
  {
   "cell_type": "code",
   "execution_count": null,
   "metadata": {},
   "outputs": [],
   "source": [
    "sns.scatterplot(x=y_test , y=y_pred )"
   ]
  },
  {
   "cell_type": "code",
   "execution_count": 19,
   "metadata": {
    "ExecuteTime": {
     "end_time": "2020-11-05T05:30:32.899736Z",
     "start_time": "2020-11-05T05:30:32.871753Z"
    }
   },
   "outputs": [
    {
     "name": "stdout",
     "output_type": "stream",
     "text": [
      "r2 score is:  0.832745812102125\n",
      "RMSE is :  54.3187676163564\n"
     ]
    }
   ],
   "source": [
    "#Lets evaluate RMSE and r2 score using sklearn library\n",
    "from sklearn.metrics import mean_squared_error\n",
    "from sklearn.metrics import r2_score\n",
    "import numpy as np\n",
    "print(\"r2 score is: \",r2_score(y_test,y_pred))\n",
    "print(\"RMSE is : \",np.sqrt(mean_squared_error(y_test,y_pred)))\n"
   ]
  },
  {
   "cell_type": "code",
   "execution_count": 3,
   "metadata": {
    "ExecuteTime": {
     "end_time": "2020-11-05T17:22:20.591813Z",
     "start_time": "2020-11-05T17:22:20.559827Z"
    }
   },
   "outputs": [
    {
     "ename": "NameError",
     "evalue": "name 'logreg' is not defined",
     "output_type": "error",
     "traceback": [
      "\u001b[1;31m---------------------------------------------------------------------------\u001b[0m",
      "\u001b[1;31mNameError\u001b[0m                                 Traceback (most recent call last)",
      "\u001b[1;32m<ipython-input-3-2d9467ca062a>\u001b[0m in \u001b[0;36m<module>\u001b[1;34m\u001b[0m\n\u001b[0;32m      2\u001b[0m \u001b[1;32mfrom\u001b[0m \u001b[0msklearn\u001b[0m\u001b[1;33m.\u001b[0m\u001b[0mmodel_selection\u001b[0m \u001b[1;32mimport\u001b[0m \u001b[0mcross_val_predict\u001b[0m\u001b[1;33m\u001b[0m\u001b[1;33m\u001b[0m\u001b[0m\n\u001b[0;32m      3\u001b[0m \u001b[1;33m\u001b[0m\u001b[0m\n\u001b[1;32m----> 4\u001b[1;33m \u001b[0macc_log\u001b[0m \u001b[1;33m=\u001b[0m \u001b[0mround\u001b[0m\u001b[1;33m(\u001b[0m\u001b[0mlogreg\u001b[0m\u001b[1;33m.\u001b[0m\u001b[0mscore\u001b[0m\u001b[1;33m(\u001b[0m\u001b[0mX_train\u001b[0m\u001b[1;33m,\u001b[0m \u001b[0mY_train\u001b[0m\u001b[1;33m)\u001b[0m \u001b[1;33m*\u001b[0m \u001b[1;36m100\u001b[0m\u001b[1;33m,\u001b[0m \u001b[1;36m2\u001b[0m\u001b[1;33m)\u001b[0m\u001b[1;33m\u001b[0m\u001b[1;33m\u001b[0m\u001b[0m\n\u001b[0m\u001b[0;32m      5\u001b[0m \u001b[0mprint\u001b[0m\u001b[1;33m(\u001b[0m\u001b[1;34m\"acc_log\"\u001b[0m\u001b[1;33m,\u001b[0m \u001b[0macc_log\u001b[0m \u001b[1;33m)\u001b[0m\u001b[1;33m\u001b[0m\u001b[1;33m\u001b[0m\u001b[0m\n",
      "\u001b[1;31mNameError\u001b[0m: name 'logreg' is not defined"
     ]
    }
   ],
   "source": [
    "\n",
    "from sklearn.metrics import confusion_matrix #for confusion matrix\n",
    "from sklearn.model_selection import cross_val_predict\n"
   ]
  },
  {
   "cell_type": "code",
   "execution_count": null,
   "metadata": {},
   "outputs": [],
   "source": []
  }
 ],
 "metadata": {
  "kernelspec": {
   "display_name": "Python 3",
   "language": "python",
   "name": "python3"
  },
  "language_info": {
   "codemirror_mode": {
    "name": "ipython",
    "version": 3
   },
   "file_extension": ".py",
   "mimetype": "text/x-python",
   "name": "python",
   "nbconvert_exporter": "python",
   "pygments_lexer": "ipython3",
   "version": "3.8.3"
  },
  "nbTranslate": {
   "displayLangs": [
    "*"
   ],
   "hotkey": "alt-t",
   "langInMainMenu": true,
   "sourceLang": "en",
   "targetLang": "fr",
   "useGoogleTranslate": true
  },
  "varInspector": {
   "cols": {
    "lenName": "50",
    "lenType": "50",
    "lenVar": "52"
   },
   "kernels_config": {
    "python": {
     "delete_cmd_postfix": "",
     "delete_cmd_prefix": "del ",
     "library": "var_list.py",
     "varRefreshCmd": "print(var_dic_list())"
    },
    "r": {
     "delete_cmd_postfix": ") ",
     "delete_cmd_prefix": "rm(",
     "library": "var_list.r",
     "varRefreshCmd": "cat(var_dic_list()) "
    }
   },
   "types_to_exclude": [
    "module",
    "function",
    "builtin_function_or_method",
    "instance",
    "_Feature"
   ],
   "window_display": false
  }
 },
 "nbformat": 4,
 "nbformat_minor": 4
}
